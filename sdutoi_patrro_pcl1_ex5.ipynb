{
 "cells": [
  {
   "cell_type": "markdown",
   "id": "74a37e1c-12d7-4fd0-bc3d-4ab48f942376",
   "metadata": {},
   "source": [
    "# PCL 1 Exercise 5\n",
    "## Stefan du Toit, Patrik Rosenkranz\n"
   ]
  },
  {
   "cell_type": "markdown",
   "id": "32f23d40-4eb7-4190-8ddd-54268e043f6c",
   "metadata": {},
   "source": [
    "# 1 \n",
    "## a)"
   ]
  },
  {
   "cell_type": "code",
   "execution_count": 2,
   "id": "0d7108ad-1c2a-4025-99bd-24a49b9f957c",
   "metadata": {},
   "outputs": [],
   "source": [
    "# here we define a function\n",
    "def foobar():\n",
    "# initializing an empty list to the variable x\n",
    "    x = []\n",
    "# for loop that iterates over every character in the given string\n",
    "    for y in \"It's a beautiful day today, isn't it? :)\": \n",
    "# conditional statement, only if character is not a letter or a number\n",
    "        if not y.isalnum():\n",
    "# add the upper case of this non-letter-number to the list... \n",
    "# Question - is there such a thing as upper case of a non-letter?\n",
    "            x.append(y.upper())\n",
    "# return the value after the definition's operations have been carried out\n",
    "# we now have a list with all the spaces and punctuation marks from our string as items\n",
    "    return x"
   ]
  },
  {
   "cell_type": "code",
   "execution_count": 3,
   "id": "96fd614a-43b4-4527-8645-6ab796ac9767",
   "metadata": {},
   "outputs": [
    {
     "name": "stdout",
     "output_type": "stream",
     "text": [
      "[\"'\", ' ', ' ', ' ', ' ', ',', ' ', \"'\", ' ', '?', ' ', ':', ')']\n"
     ]
    }
   ],
   "source": [
    "result = foobar()\n",
    "print(result)"
   ]
  },
  {
   "cell_type": "markdown",
   "id": "cec5bf11-a27f-407b-9f62-2b4bfd538a6a",
   "metadata": {},
   "source": [
    "## b)"
   ]
  },
  {
   "cell_type": "code",
   "execution_count": 4,
   "id": "fc303da4-eaa0-4a09-bdeb-629e6735b416",
   "metadata": {},
   "outputs": [
    {
     "name": "stdout",
     "output_type": "stream",
     "text": [
      "[\"'\", ' ', ' ', ' ', ' ', ',', ' ', \"'\", ' ', '?', ' ', ':', ')']\n"
     ]
    }
   ],
   "source": [
    "result = [x.upper() for x in \"It's a beautiful day today, isn't it? :)\" if not x.isalnum()]\n",
    "print(result)"
   ]
  },
  {
   "cell_type": "markdown",
   "id": "dfca722e-8b12-4ae7-8aef-e8185b29762c",
   "metadata": {},
   "source": [
    "## c)"
   ]
  },
  {
   "cell_type": "code",
   "execution_count": 5,
   "id": "7773c9f6-5551-41e9-8651-52c9d6d66282",
   "metadata": {},
   "outputs": [],
   "source": [
    "def extract_spaces_punct(input_string):\n",
    "    \"\"\" Extract all spaces and punctuation from a string and return these as items in a list.\"\"\"\n",
    "    new_string = []\n",
    "    for char in input_string:\n",
    "        if not char.isalnum():\n",
    "            new_string.append(char.upper())\n",
    "    return new_string"
   ]
  },
  {
   "cell_type": "code",
   "execution_count": 7,
   "id": "20986009-c880-43e8-8a92-f6872584e970",
   "metadata": {},
   "outputs": [
    {
     "name": "stdout",
     "output_type": "stream",
     "text": [
      "[\"'\", ' ', ' ', '@', ' ', ' ', ' ', ' ', '#', ' ', ' ', ' ', '?', ' ', ' ', ',', ' ', ' ', ' ', ' ', ' ', ' ', '.', ' ', '.', ' ', '!', ' ']\n"
     ]
    }
   ],
   "source": [
    "input_string = \"Let's see @ if this new # function actually works? By Jove, I think it just might . . ! \"\n",
    "new_string = extract_spaces_punct(input_string)\n",
    "print(new_string)"
   ]
  },
  {
   "cell_type": "markdown",
   "id": "d82895a7-0189-4b3d-b1e2-3899b42a0cef",
   "metadata": {},
   "source": [
    "# 2\n",
    "## 2.1)"
   ]
  },
  {
   "cell_type": "code",
   "execution_count": 8,
   "id": "0a170a6b-ef7a-4dcc-958f-0d21da10f8ef",
   "metadata": {},
   "outputs": [
    {
     "name": "stdout",
     "output_type": "stream",
     "text": [
      "You look beautiful today.\n",
      "Outer function sentence.\n",
      "It's been very rainy lately.\n",
      "It's been very rainy lately.\n"
     ]
    }
   ],
   "source": [
    "def func1():\n",
    "    sentence = \"You look beautiful today.\"\n",
    "    print(sentence)\n",
    "    \n",
    "def outer_func():\n",
    "    # assigns a phrase to the variable 'sentence'\n",
    "    sentence = \"Outer function sentence.\"\n",
    "    \n",
    "    def func2():\n",
    "        # this line alters the global variable called sentence\n",
    "        global sentence\n",
    "        # this assigns the new phrase to the global variable 'sentence' and then prints it\n",
    "        sentence = \"It's been very rainy lately.\" \n",
    "        print(sentence)\n",
    "    # the first thing the outer_func actually does, which is it calls func1    \n",
    "    func1()\n",
    "    # and then prints the local sentence\n",
    "    print(sentence)\n",
    "    # now it calls func2\n",
    "    func2()\n",
    "\n",
    "#here is the global sentence variable, not kept in any function and never printed as is here\n",
    "sentence = \"This is a third sentence.\"\n",
    "# we now call outer_func which in turn calls func1 and then func2 \n",
    "outer_func()\n",
    "# we finally just print the global variable called sentence which has been altered after calling outer_func\n",
    "print(sentence)"
   ]
  },
  {
   "cell_type": "markdown",
   "id": "5e3a4e7e-651f-4bde-a457-84093ac209bf",
   "metadata": {},
   "source": [
    "## 2.2)\n",
    "\n",
    "A global variable is the value of a variable that is defined outside of functions, just somewhere in the script. Whenever that variable is used, it will have the last value that was assigned to it globally. However, this can be modified even from within a function - using the keyword 'global' followed by the variable name. Otherwise, if we just use the same variable name from within a function, it only has this value within this function's scope and not when the variable is called globally. \n",
    "A function might also contain a nested function, then the outer function is like the global environment to this nested function. That is why \"outer function sentence\" is printed instead of \"it's been very rainy lately\" in the 'print(sentence)' line of outer_func. "
   ]
  },
  {
   "cell_type": "markdown",
   "id": "e0560bef-0cfc-4a05-b306-e7a4cffc2171",
   "metadata": {
    "jp-MarkdownHeadingCollapsed": true
   },
   "source": [
    "## 2.3)\n",
    "\n",
    "Since functions are ignored in the script until they are called, and since the variable \"sentence\" is never called to print before it gets altered, we never see the sentence \"This is a third sentence.\" printed to the screen. After the variable 'sentence' is created and that invisible sentence is assigned to it,  the function outer_func is called, which in turn assigns a value to a variable also called 'sentence'. It then calls func1 which prints yet another variable with the name 'sentence', printing \"You look beautiful today.\" to the screen. After this the old 'sentence' (from outer_func) is printed: \"Outer function sentence.\" Then func2 is called, which alters the global variable called 'sentence' to \"It's been very rainy lately.\" and prints it. At the end of the program the global variable 'sentence' is printed, which again prints \"It's been very rainy lately.\""
   ]
  },
  {
   "cell_type": "markdown",
   "id": "86fee7ea-9e03-4990-98de-ca5796a9f339",
   "metadata": {},
   "source": [
    "## 2.4)\n",
    "\n",
    "at first sentence = \"This is a third sentence.\" Then it becomes \"You look beautiful today.\", followed by \"Outer function sentence.\" and finally \"It's been very rainy lately.\""
   ]
  },
  {
   "cell_type": "markdown",
   "id": "9e701a41-eb9f-40e6-b69a-61281e84821c",
   "metadata": {},
   "source": [
    "# 3\n",
    "## a) b)"
   ]
  },
  {
   "cell_type": "markdown",
   "id": "6b037d01-cd97-4289-9c4c-4381d08a8242",
   "metadata": {},
   "source": [
    "![Alt text](3ab.png)"
   ]
  },
  {
   "cell_type": "markdown",
   "id": "690e1840-297a-472b-8ed9-03c4735a1ca4",
   "metadata": {},
   "source": [
    "## c)"
   ]
  },
  {
   "cell_type": "code",
   "execution_count": 9,
   "id": "6af45dcf-ce82-4726-b31f-67ab1f1c7dc8",
   "metadata": {},
   "outputs": [],
   "source": [
    "def sum_of_evens(numbers_list):\n",
    "    sum_even = 0\n",
    "    for num in numbers_list:\n",
    "        if num % 2 == 0:\n",
    "            sum_even += num\n",
    "    return sum_even\n",
    "    print(sum_even)\n",
    "\n",
    "result = sum_of_evens([2, 3, 4, 4, 6, 7, 8, 8, 10])"
   ]
  },
  {
   "cell_type": "code",
   "execution_count": 10,
   "id": "e51dfd63-9093-4047-a4a5-ffadd386bc7d",
   "metadata": {},
   "outputs": [
    {
     "name": "stdout",
     "output_type": "stream",
     "text": [
      "42\n"
     ]
    }
   ],
   "source": [
    "print(result)"
   ]
  },
  {
   "cell_type": "markdown",
   "id": "29101ffb-4f7f-44ac-833d-216e121dc0b9",
   "metadata": {
    "jp-MarkdownHeadingCollapsed": true
   },
   "source": [
    "The content of the variable is just the sum of the even numbers (assuming that we call the function on an actual number list)"
   ]
  },
  {
   "cell_type": "markdown",
   "id": "539590db-47e3-438e-936b-6c9d7c5bfe47",
   "metadata": {},
   "source": [
    "## d)"
   ]
  },
  {
   "cell_type": "markdown",
   "id": "c05c6268-7086-454b-ac6a-db426a02ec2a",
   "metadata": {},
   "source": [
    "![Alt text](3d.png)"
   ]
  },
  {
   "cell_type": "code",
   "execution_count": null,
   "id": "989f8967-02cc-467c-a9ec-eac7dd57a936",
   "metadata": {},
   "outputs": [],
   "source": []
  }
 ],
 "metadata": {
  "kernelspec": {
   "display_name": "Python 3 (ipykernel)",
   "language": "python",
   "name": "python3"
  },
  "language_info": {
   "codemirror_mode": {
    "name": "ipython",
    "version": 3
   },
   "file_extension": ".py",
   "mimetype": "text/x-python",
   "name": "python",
   "nbconvert_exporter": "python",
   "pygments_lexer": "ipython3",
   "version": "3.11.6"
  }
 },
 "nbformat": 4,
 "nbformat_minor": 5
}
