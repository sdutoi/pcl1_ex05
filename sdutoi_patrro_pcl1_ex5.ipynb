{
 "cells": [
  {
   "cell_type": "markdown",
   "id": "74a37e1c-12d7-4fd0-bc3d-4ab48f942376",
   "metadata": {},
   "source": [
    "# PCL 1 Exercise 5\n",
    "## Stefan du Toit, Patrik Rosenkranz\n"
   ]
  },
  {
   "cell_type": "markdown",
   "id": "32f23d40-4eb7-4190-8ddd-54268e043f6c",
   "metadata": {},
   "source": [
    "# 1 \n",
    "## a)"
   ]
  },
  {
   "cell_type": "code",
   "execution_count": null,
   "id": "0d7108ad-1c2a-4025-99bd-24a49b9f957c",
   "metadata": {},
   "outputs": [],
   "source": [
    "# here we define a function\n",
    "def foobar():\n",
    "# initializing an empty list to the variable x\n",
    "    x = []\n",
    "# for loop that iterates over every character in the given string\n",
    "    for y in \"It's a beautiful day today, isn't it? :)\": \n",
    "# conditional statement, only if character is not a letter or a number\n",
    "        if not y.isalnum():\n",
    "# add the upper case of this non-letter-number to the list... \n",
    "# Question - is there such a thing as upper case of a non-letter?\n",
    "            x.append(y.upper())\n",
    "# return the value after the definition's operations have been carried out\n",
    "# we now have a list with all the spaces and punctuation marks from our string as items\n",
    "    return x"
   ]
  },
  {
   "cell_type": "code",
   "execution_count": null,
   "id": "96fd614a-43b4-4527-8645-6ab796ac9767",
   "metadata": {},
   "outputs": [
    {
     "name": "stdout",
     "output_type": "stream",
     "text": [
      "[\"'\", ' ', ' ', ' ', ' ', ',', ' ', \"'\", ' ', '?', ' ', ':', ')']\n"
     ]
    }
   ],
   "source": [
    "result = foobar()\n",
    "print(result)"
   ]
  },
  {
   "cell_type": "markdown",
   "id": "cec5bf11-a27f-407b-9f62-2b4bfd538a6a",
   "metadata": {},
   "source": [
    "## b)"
   ]
  },
  {
   "cell_type": "code",
   "execution_count": null,
   "id": "fc303da4-eaa0-4a09-bdeb-629e6735b416",
   "metadata": {},
   "outputs": [
    {
     "name": "stdout",
     "output_type": "stream",
     "text": [
      "[\"'\", ' ', ' ', ' ', ' ', ',', ' ', \"'\", ' ', '?', ' ', ':', ')']\n"
     ]
    }
   ],
   "source": [
    "result = [x.upper() for x in \"It's a beautiful day today, isn't it? :)\" if not x.isalnum()]\n",
    "print(result)"
   ]
  },
  {
   "cell_type": "markdown",
   "id": "dfca722e-8b12-4ae7-8aef-e8185b29762c",
   "metadata": {},
   "source": [
    "## c)"
   ]
  },
  {
   "cell_type": "code",
   "execution_count": null,
   "id": "7773c9f6-5551-41e9-8651-52c9d6d66282",
   "metadata": {},
   "outputs": [],
   "source": [
    "def extract_spaces_punct(input_string):\n",
    "    \"\"\" Extract all spaces and punctuation from a string and return these as items in a list.\"\"\"\n",
    "    new_string = []\n",
    "    for char in input_string:\n",
    "        if not char.isalnum():\n",
    "            new_string.append(char.upper())\n",
    "    return new_string"
   ]
  },
  {
   "cell_type": "code",
   "execution_count": null,
   "id": "20986009-c880-43e8-8a92-f6872584e970",
   "metadata": {},
   "outputs": [
    {
     "name": "stdout",
     "output_type": "stream",
     "text": [
      "[\"'\", ' ', ' ', '@', ' ', ' ', ' ', ' ', '#', ' ', ' ', ' ', '?', ' ', ' ', ',', ' ', ' ', ' ', ' ', ' ', ' ', '.', ' ', '.', ' ', '!', ' ']\n"
     ]
    }
   ],
   "source": [
    "input_string = \"Let's see @ if this new # function actually works? By Jove, I think it just might . . ! \"\n",
    "new_string = extract_spaces_punct(input_string)\n",
    "print(new_string)"
   ]
  },
  {
   "cell_type": "markdown",
   "id": "d82895a7-0189-4b3d-b1e2-3899b42a0cef",
   "metadata": {},
   "source": [
    "# 2\n",
    "## 2.1)"
   ]
  },
  {
   "cell_type": "code",
   "execution_count": null,
   "id": "0a170a6b-ef7a-4dcc-958f-0d21da10f8ef",
   "metadata": {},
   "outputs": [
    {
     "name": "stdout",
     "output_type": "stream",
     "text": [
      "You look beautiful today.\n",
      "Outer function sentence.\n",
      "It's been very rainy lately.\n",
      "It's been very rainy lately.\n"
     ]
    }
   ],
   "source": [
    "def func1():\n",
    "    sentence = \"You look beautiful today.\"\n",
    "    print(sentence)\n",
    "    \n",
    "def outer_func():\n",
    "    # assigns a phrase to the variable 'sentence'\n",
    "    sentence = \"Outer function sentence.\"\n",
    "    \n",
    "    def func2():\n",
    "        # this line alters the global variable called sentence\n",
    "        global sentence\n",
    "        # this assigns the new phrase to the global variable 'sentence' and then prints it\n",
    "        sentence = \"It's been very rainy lately.\" \n",
    "        print(sentence)\n",
    "    # the first thing the outer_func actually does, which is it calls func1    \n",
    "    func1()\n",
    "    # and then prints the local sentence\n",
    "    print(sentence)\n",
    "    # now it calls func2\n",
    "    func2()\n",
    "\n",
    "#here is the global sentence variable, not kept in any function and never printed as is here\n",
    "sentence = \"This is a third sentence.\"\n",
    "# we now call outer_func which in turn calls func1 and then func2 \n",
    "outer_func()\n",
    "# we finally just print the global variable called sentence which has been altered after calling outer_func\n",
    "print(sentence)"
   ]
  },
  {
   "cell_type": "markdown",
   "id": "5e3a4e7e-651f-4bde-a457-84093ac209bf",
   "metadata": {},
   "source": [
    "## 2.2)\n",
    "\n",
    "A global variable is the value of a variable that is defined outside of functions, just somewhere in the script. Whenever that variable is used, it will have the last value that was assigned to it globally. However, this can be modified even from within a function - using the keyword 'global' followed by the variable name. Otherwise, if we just use the same variable name from within a function, it only has this value within this function's scope and not when the variable is called globally. \n",
    "A function might also contain a nested function, then the outer function is like the global environment to this nested function. That is why \"outer function sentence\" is printed instead of \"it's been very rainy lately\" in the 'print(sentence)' line of outer_func. "
   ]
  },
  {
   "cell_type": "markdown",
   "id": "e0560bef-0cfc-4a05-b306-e7a4cffc2171",
   "metadata": {
    "jp-MarkdownHeadingCollapsed": true
   },
   "source": [
    "## 2.3)\n",
    "\n",
    "Since functions are ignored in the script until they are called, and since the variable \"sentence\" is never called to print before it gets altered, we never see the sentence \"This is a third sentence.\" printed to the screen. After the variable 'sentence' is created and that invisible sentence is assigned to it,  the function outer_func is called, which in turn assigns a value to a variable also called 'sentence'. It then calls func1 which prints yet another variable with the name 'sentence', printing \"You look beautiful today.\" to the screen. After this the old 'sentence' (from outer_func) is printed: \"Outer function sentence.\" Then func2 is called, which alters the global variable called 'sentence' to \"It's been very rainy lately.\" and prints it. At the end of the program the global variable 'sentence' is printed, which again prints \"It's been very rainy lately.\""
   ]
  },
  {
   "cell_type": "markdown",
   "id": "86fee7ea-9e03-4990-98de-ca5796a9f339",
   "metadata": {},
   "source": [
    "## 2.4)\n",
    "\n",
    "at first sentence = \"This is a third sentence.\" Then it becomes \"You look beautiful today.\", followed by \"Outer function sentence.\" and finally \"It's been very rainy lately.\""
   ]
  },
  {
   "cell_type": "markdown",
   "id": "9e701a41-eb9f-40e6-b69a-61281e84821c",
   "metadata": {},
   "source": [
    "# 3\n",
    "## a) b)"
   ]
  },
  {
   "cell_type": "markdown",
   "id": "6b037d01-cd97-4289-9c4c-4381d08a8242",
   "metadata": {},
   "source": [
    "![Alt text](3ab.png)"
   ]
  },
  {
   "cell_type": "markdown",
   "id": "690e1840-297a-472b-8ed9-03c4735a1ca4",
   "metadata": {},
   "source": [
    "## c)"
   ]
  },
  {
   "cell_type": "code",
   "execution_count": null,
   "id": "6af45dcf-ce82-4726-b31f-67ab1f1c7dc8",
   "metadata": {},
   "outputs": [],
   "source": [
    "def sum_of_evens(numbers_list):\n",
    "    sum_even = 0\n",
    "    for num in numbers_list:\n",
    "        if num % 2 == 0:\n",
    "            sum_even += num\n",
    "    return sum_even\n",
    "    print(sum_even)\n",
    "\n",
    "result = sum_of_evens([2, 3, 4, 4, 6, 7, 8, 8, 10])"
   ]
  },
  {
   "cell_type": "code",
   "execution_count": null,
   "id": "e51dfd63-9093-4047-a4a5-ffadd386bc7d",
   "metadata": {},
   "outputs": [
    {
     "name": "stdout",
     "output_type": "stream",
     "text": [
      "42\n"
     ]
    }
   ],
   "source": [
    "print(result)"
   ]
  },
  {
   "cell_type": "markdown",
   "id": "29101ffb-4f7f-44ac-833d-216e121dc0b9",
   "metadata": {
    "jp-MarkdownHeadingCollapsed": true
   },
   "source": [
    "The content of the variable is just the sum of the even numbers (assuming that we call the function on an actual number list)"
   ]
  },
  {
   "cell_type": "markdown",
   "id": "539590db-47e3-438e-936b-6c9d7c5bfe47",
   "metadata": {},
   "source": [
    "## d)"
   ]
  },
  {
   "cell_type": "markdown",
   "id": "c05c6268-7086-454b-ac6a-db426a02ec2a",
   "metadata": {},
   "source": [
    "![Alt text](3d.png)"
   ]
  },
  {
   "cell_type": "markdown",
   "id": "989f8967-02cc-467c-a9ec-eac7dd57a936",
   "metadata": {},
   "source": [
    "# 4\n",
    "## 4.1"
   ]
  },
  {
   "cell_type": "code",
   "execution_count": null,
   "id": "4967a517-fd91-4761-8478-857cacb6b557",
   "metadata": {},
   "outputs": [
    {
     "name": "stdout",
     "output_type": "stream",
     "text": [
      "Requirement already satisfied: openpyxl in /opt/homebrew/Cellar/jupyterlab/4.0.7/libexec/lib/python3.11/site-packages (3.1.2)\n",
      "Requirement already satisfied: et-xmlfile in /opt/homebrew/Cellar/jupyterlab/4.0.7/libexec/lib/python3.11/site-packages (from openpyxl) (1.1.0)\n",
      "Note: you may need to restart the kernel to use updated packages.\n"
     ]
    }
   ],
   "source": [
    "pip install openpyxl"
   ]
  },
  {
   "cell_type": "code",
   "execution_count": null,
   "id": "c78c0a6b-304c-4db1-986d-285e122eaa32",
   "metadata": {},
   "outputs": [],
   "source": [
    "import openpyxl\n",
    "from openpyxl import Workbook\n",
    "from openpyxl.worksheet.table import Table, TableStyleInfo"
   ]
  },
  {
   "cell_type": "code",
   "execution_count": null,
   "id": "609c5fd0",
   "metadata": {},
   "outputs": [],
   "source": [
    "goldfile = \"test.tts\"\n",
    "silverfile = \"result.tts\"\n"
   ]
  },
  {
   "cell_type": "markdown",
   "id": "5f4020f0-6d2a-4c5d-b3c3-c75ace8f2e3a",
   "metadata": {},
   "source": [
    "when run as a .py script from the terminal:  \n",
    "import sys  \n",
    "goldfile = sys.argv[1]  \n",
    "silverfile = sys.argv[2]"
   ]
  },
  {
   "cell_type": "markdown",
   "id": "619cc304-2ba7-4282-b241-008ef8a3d1d8",
   "metadata": {},
   "source": [
    "## initial logic\n",
    "The gold tag count is equivalent to the __\"present\"__ column (as the tags are from our golden rule file) and also represents __TP__.    \n",
    "The silver tag count equals the __\"found\"__ column, as these are the tags that were automatically assigned in the test file.  \n",
    "To get the __\"missed\"__ values, we need to compare the gold with the silver tags and every time the silver tag doesn't match the gold tag, this means the respective gold tag was \"missed\" so we add that as a key to a dictionary count. These represent the __FN__ score.  \n",
    "The __\"wrong\"__ values are calculated by adding together \"found\" and \"missed\" and then subtracting \"present\", as this would lead to all the instances that the tagger tagged a tag too many times ie made a mistake. This represents the __FP__ values.  "
   ]
  },
  {
   "cell_type": "markdown",
   "id": "e9fa3414-8eac-4547-9602-8d8d46b3b6e7",
   "metadata": {},
   "source": [
    "chatgpt promt down the lines of \" help me write a function that takes two files as arguments, strip each line and then split the lines (tab delimited) into token and tag. I need a list of tokens and a list of tags from each respective file\""
   ]
  },
  {
   "cell_type": "code",
   "execution_count": null,
   "id": "21523ead",
   "metadata": {},
   "outputs": [],
   "source": [
    "def token_tag_split(file1, file2):\n",
    "    \"\"\"Open two files, strip the lines and split them into token and tag. Return a list of tokens \n",
    "    and a list of tags for each file.\n",
    "    \"\"\"\n",
    "    gold_tokens = []\n",
    "    gold_tags = []\n",
    "    silver_tokens = []\n",
    "    silver_tags = []\n",
    "\n",
    "    with open(file1, 'r') as f1, open(file2, 'r') as f2:\n",
    "        for line1, line2 in zip(f1, f2):\n",
    "            # Skip empty lines\n",
    "            if not line1.strip() or not line2.strip():\n",
    "                continue\n",
    "            # split into token and tag\n",
    "            split_line1 = line1.strip().split('\\t')\n",
    "            split_line2 = line2.strip().split('\\t')\n",
    "\n",
    "            # Check if the split produced the expected number of elements\n",
    "            if len(split_line1) != 2 or len(split_line2) != 2:\n",
    "                continue  # Skip this iteration and move to the next one\n",
    "\n",
    "            #split the split_line into two variables\n",
    "            token1, tag1 = split_line1\n",
    "            token2, tag2 = split_line2\n",
    "\n",
    "            #append the tokens and tags to their lists\n",
    "            gold_tokens.append(token1)\n",
    "            gold_tags.append(tag1)\n",
    "            silver_tokens.append(token2)\n",
    "            silver_tags.append(tag2)\n",
    "    \n",
    "    #return the four lists\n",
    "    return gold_tokens, gold_tags, silver_tokens, silver_tags\n"
   ]
  },
  {
   "cell_type": "markdown",
   "id": "8047f11d-79ee-49f7-9e6a-0a376c0b7903",
   "metadata": {},
   "source": [
    "\"now I need a function that counts the tags in each tag list, creating a dictionary with the counts for each tag list. also, if the silver list includes a tag that is not in the gold list, the gold dictionary should have it as a key with the value 0.\""
   ]
  },
  {
   "cell_type": "code",
   "execution_count": null,
   "id": "bee5cf5f",
   "metadata": {},
   "outputs": [],
   "source": [
    "def tag_count(gold_tags, silver_tags):\n",
    "    \"\"\" create a dictionary count to count the POS tags from ech file. Take the lists gold_tags \n",
    "    and silver_tags created above as arguments. Return the two new dictionaries gold_tags_count and \n",
    "    silver_tags_count.\n",
    "    \"\"\"\n",
    "    #create empty dicts for our count\n",
    "    gold_tags_count = {}\n",
    "    silver_tags_count = {}\n",
    "    for tag in gold_tags:\n",
    "        if tag in gold_tags_count:\n",
    "            gold_tags_count[tag] += 1\n",
    "        else:\n",
    "          gold_tags_count[tag] = 1\n",
    "    \n",
    "    for tag in silver_tags:\n",
    "        if tag in silver_tags_count:\n",
    "            silver_tags_count[tag] += 1\n",
    "        else:\n",
    "          silver_tags_count[tag] = 1\n",
    "    \n",
    "    # Update gold_tags_count to include missing tags from silver_tags_count with count 0\n",
    "    for tag in silver_tags_count:\n",
    "        if tag not in gold_tags_count:\n",
    "            gold_tags_count[tag] = 0\n",
    "    \n",
    "    return gold_tags_count, silver_tags_count"
   ]
  },
  {
   "cell_type": "code",
   "execution_count": null,
   "id": "ee2c7ea8",
   "metadata": {},
   "outputs": [],
   "source": [
    "def count_missed(gold_tags, silver_tags):\n",
    "    \"\"\" look at the gold_tags and silver_tags lists and count the mismatches, adding this to a \n",
    "    dictionary count using the respective gold_tag as key\n",
    "    \"\"\"\n",
    "    missed_tags = {}\n",
    "    # use zip() to iterate simultaneously over the paired elements from two lists\n",
    "    for gold_tag, silver_tag in zip(gold_tags, silver_tags):\n",
    "        # a mismatch means the silver tag is wrong and hence the respective gold tag was missed\n",
    "        if gold_tag != silver_tag:\n",
    "            #initiating the missed_tags dictionary count\n",
    "            if gold_tag in missed_tags:\n",
    "                missed_tags[gold_tag] += 1\n",
    "            else:\n",
    "                missed_tags[gold_tag] = 1\n",
    "\n",
    "    return missed_tags\n"
   ]
  },
  {
   "cell_type": "code",
   "execution_count": null,
   "id": "900dcbe7-8f89-473d-8428-be39baf62e1c",
   "metadata": {},
   "outputs": [],
   "source": [
    "def wrong_calc(gold_tags_count, silver_tags_count, missed_tags):\n",
    "    \"\"\" create a dictionary to count the wrongly assigned tags, taking the 3 dictionaries gold_tags_count, \n",
    "    silver_tags_count and missed_tags as arguments. The formula is \"found\" (silver_tags) plus \"missed\" minus \"present\" (gold_tags). \n",
    "    We return a new dictionary called wrong_dict\n",
    "    \"\"\"\n",
    "    \n",
    "    wrong_dict = {}\n",
    "\n",
    "    for tag in gold_tags_count:\n",
    "        # using the .get() method to access just the value of a dictionary item, asigning the default value 0 if there is no key found\n",
    "        present = gold_tags_count.get(tag, 0)\n",
    "        found = silver_tags_count.get(tag, 0)\n",
    "        missed = missed_tags.get(tag, 0)\n",
    "\n",
    "        # getting the desired count (value) using the formula described above\n",
    "        wrong_value = found + missed - present\n",
    "\n",
    "        # creating a dictionary with this value and its respective tags as keys\n",
    "        wrong_dict[tag] = wrong_value\n",
    "\n",
    "    return wrong_dict"
   ]
  },
  {
   "cell_type": "code",
   "execution_count": null,
   "id": "a84d93b0-42d5-45ec-a6ed-5ba1090d3856",
   "metadata": {},
   "outputs": [],
   "source": [
    "def precision_calc(gold_tags_count, wrong_dict):\n",
    "    \"\"\"Create a dictionary with the same tags, taking gold_tags_count and wrong_dict as arguments. We get the precision value using the formula TP / TP + FP, \n",
    "    multiplied by 100 to give the score as percentage. Return precision_dict\n",
    "    \"\"\"\n",
    "    \n",
    "    precision_dict = {}\n",
    "\n",
    "    for tag in gold_tags_count:\n",
    "        gold_value = gold_tags_count.get(tag, 0)\n",
    "        wrong_value = wrong_dict.get(tag, 0)\n",
    "\n",
    "        denominator = gold_value + wrong_value\n",
    "\n",
    "        precision_value = round(100*(gold_value / denominator), 2) if denominator != 0 else 0.0 # avoid error when denominator 0\n",
    "\n",
    "        precision_dict[tag] = precision_value\n",
    "\n",
    "    return precision_dict"
   ]
  },
  {
   "cell_type": "code",
   "execution_count": null,
   "id": "87998395-246b-416d-a59f-6268cc923ffc",
   "metadata": {},
   "outputs": [],
   "source": [
    "def recall_calc(gold_tags_count, missed_tags):\n",
    "    \"\"\" Create another dictionary with our tags, this time assigning the recall score as the values. The formula is TP (gold_tags) \n",
    "    divided by TP + FN (missed_tags). Return recall_dict\n",
    "    \"\"\"\n",
    "    \n",
    "    recall_dict = {}\n",
    "\n",
    "    for tag in gold_tags_count:\n",
    "        gold_value = gold_tags_count.get(tag, 0)\n",
    "        missed_value = missed_tags.get(tag, 0)\n",
    "\n",
    "        denominator = gold_value + missed_value\n",
    "\n",
    "        recall_value = round(100*(gold_value / denominator), 2) if denominator != 0 else 0.0\n",
    "\n",
    "        recall_dict[tag] = recall_value\n",
    "\n",
    "    return recall_dict"
   ]
  },
  {
   "cell_type": "code",
   "execution_count": null,
   "id": "31799089-0664-4204-92fd-b1eccdf5b6bf",
   "metadata": {},
   "outputs": [],
   "source": [
    "def fmeas_calc(precision_dict, recall_dict):\n",
    "    \"\"\" Create another dictionary with our tags, this time calculating the f-measure score as the values. The formula is fmeas = \n",
    "    2*precision*recall / precision + recall. Return fmeas_dict\n",
    "    \"\"\"\n",
    "    \n",
    "    fmeas_dict = {}\n",
    "\n",
    "    for tag in precision_dict:\n",
    "        precision_value = precision_dict.get(tag, 0)\n",
    "        recall_value = recall_dict.get(tag, 0)\n",
    "\n",
    "        numerator = 2 * (precision_value * recall_value)\n",
    "        denominator = precision_value + recall_value\n",
    "\n",
    "        fmeas_value = round(numerator / denominator, 2) if denominator != 0 else 0.0\n",
    "\n",
    "        fmeas_dict[tag] = fmeas_value\n",
    "\n",
    "    return fmeas_dict"
   ]
  },
  {
   "cell_type": "markdown",
   "id": "8217e71d-7bde-43c9-b6e8-cd37f230e404",
   "metadata": {},
   "source": [
    "prompt: \"a python function that creates a table from 7 dictionaries, combining all the keys which should be the same. column 1 is TAG (keys from gold tags), column 2 is PRESENT, ...\" etc."
   ]
  },
  {
   "cell_type": "code",
   "execution_count": null,
   "id": "b84256af-ff34-4adc-b004-c55199c38d94",
   "metadata": {},
   "outputs": [],
   "source": [
    "def create_table(gold_tags_count, silver_tags_count, missed_tags, wrong_dict, precision_dict, recall_dict, fmeas_dict):\n",
    "    \"\"\" create a table from the tags and corresponding values from our 7 dictionaries . return table \"\"\"\n",
    "    \n",
    "    # start a table variable as an empty list, this corresponds to a row in the table\n",
    "    table = []\n",
    "    # create the first row (header) and append it to the table\n",
    "    header = [\"-TAG-\", \"-PRESENT-\", \"-FOUND-\", \"-WRONG-\", \"-MISSED-\", \"-PREC-\", \"-RECAL-\", \"-F-MEAS-\"]\n",
    "    table.append(header)\n",
    "\n",
    "    # create a union of the unique tags in gold_tags and the keys (tags) of all our dictionaries\n",
    "    all_tags = set(gold_tags_count.keys()).union(\n",
    "        silver_tags_count.keys(),\n",
    "        missed_tags.keys(),\n",
    "        wrong_dict.keys(),\n",
    "        precision_dict.keys(),\n",
    "        recall_dict.keys(),\n",
    "        fmeas_dict.keys()\n",
    "    )\n",
    "    # we iterate over each tag, every time we do this the values of the corresponding dicts are accessed using .get() method\n",
    "    for tag in all_tags:\n",
    "        present = gold_tags_count.get(tag, 0)\n",
    "        found = silver_tags_count.get(tag, 0)\n",
    "        missed = missed_tags.get(tag, 0)\n",
    "        wrong = wrong_dict.get(tag, 0)\n",
    "        precision = precision_dict.get(tag, 0)\n",
    "        recall = recall_dict.get(tag, 0)\n",
    "        fmeas = fmeas_dict.get(tag, 0)\n",
    "        # and appended as a list ie row to our table\n",
    "        table.append([tag, present, found, wrong, missed, precision, recall, fmeas])\n",
    "\n",
    "    return sorted(table)"
   ]
  },
  {
   "cell_type": "code",
   "execution_count": null,
   "id": "49645fc1-3f6c-4579-99d9-62b775c56240",
   "metadata": {},
   "outputs": [],
   "source": [
    "def print_table(table):\n",
    "    \"\"\" calculate the min width needed (plus 2 spaces as padding) for the columns in the table. left-justify this \n",
    "    so that each column has this length. Print the table one row at a time. \n",
    "    \"\"\"\n",
    "    col_width = max(len(str(word)) for row in table for word in row) + 2  # padding\n",
    "\n",
    "    for row in table:\n",
    "        print(\" | \".join(str(word).ljust(col_width) for word in row))"
   ]
  },
  {
   "cell_type": "code",
   "execution_count": null,
   "id": "931f3267-b6bb-4b45-8403-385688952ad3",
   "metadata": {},
   "outputs": [],
   "source": [
    "def xl_create(table):\n",
    "    # Create a new workbook and select the active sheet\n",
    "    workbook = Workbook()\n",
    "    sheet = workbook.active\n",
    "    \n",
    "    # Add data to the sheet\n",
    "    for row in table:\n",
    "        sheet.append(row)\n",
    "    \n",
    "    # Create a table from the data\n",
    "    new_table = Table(displayName=\"Table1\", ref=sheet.dimensions)\n",
    "    \n",
    "    # Add a TableStyleInfo to the table\n",
    "    style = TableStyleInfo(\n",
    "        name=\"TableStyleMedium9\", showFirstColumn=False,\n",
    "        showLastColumn=False, showRowStripes=True, showColumnStripes=True)\n",
    "    new_table.tableStyleInfo = style\n",
    "    \n",
    "    # Add the table to the worksheet\n",
    "    sheet.add_table(new_table)\n",
    "    \n",
    "    # Save the workbook to a file\n",
    "    workbook.save(\"output.xlsx\")"
   ]
  },
  {
   "cell_type": "code",
   "execution_count": null,
   "id": "d54daf5b-0174-4ffe-a51a-96ecd4d1a19a",
   "metadata": {},
   "outputs": [],
   "source": [
    "def main():\n",
    "    \"\"\" Main function which calls all the other functions, creating and using the variables as needed\"\"\"\n",
    "    gold_tokens, gold_tags, silver_tokens, silver_tags = token_tag_split(goldfile, silverfile)\n",
    "\n",
    "    gold_tags_count, silver_tags_count = tag_count(gold_tags, silver_tags)\n",
    "\n",
    "    missed_tags = count_missed(gold_tags, silver_tags)\n",
    "\n",
    "    wrong_dict = wrong_calc(gold_tags_count, silver_tags_count, missed_tags)\n",
    "\n",
    "    precision_dict = precision_calc(gold_tags_count, wrong_dict)\n",
    "\n",
    "    recall_dict = recall_calc(gold_tags_count, missed_tags)\n",
    "\n",
    "    fmeas_dict = fmeas_calc(precision_dict, recall_dict)\n",
    "\n",
    "    # Create the table using the relevant dictionaries\n",
    "    table = create_table(gold_tags_count, silver_tags_count, missed_tags, wrong_dict, precision_dict, recall_dict, fmeas_dict)\n",
    "\n",
    "    # Print the table\n",
    "    print_table(table)\n",
    "\n",
    "    xl_create(table)"
   ]
  },
  {
   "cell_type": "code",
   "execution_count": null,
   "id": "6f0ebc51-ae4e-482f-aa42-cf482c73e29d",
   "metadata": {},
   "outputs": [
    {
     "name": "stdout",
     "output_type": "stream",
     "text": [
      "-TAG-       | -PRESENT-   | -FOUND-     | -WRONG-     | -MISSED-    | -PREC-      | -RECAL-     | -F-MEAS-   \n",
      "ADJ         | 2215        | 2116        | 176         | 275         | 92.64       | 88.96       | 90.76      \n",
      "ADP         | 3448        | 3459        | 63          | 52          | 98.21       | 98.51       | 98.36      \n",
      "ADV         | 1141        | 1263        | 170         | 48          | 87.03       | 95.96       | 91.28      \n",
      "AUX         | 1063        | 1066        | 51          | 48          | 95.42       | 95.68       | 95.55      \n",
      "CCONJ       | 888         | 893         | 22          | 17          | 97.58       | 98.12       | 97.85      \n",
      "DET         | 3344        | 3446        | 128         | 26          | 96.31       | 99.23       | 97.75      \n",
      "NOUN        | 5318        | 5506        | 532         | 344         | 90.91       | 93.92       | 92.39      \n",
      "NUM         | 944         | 950         | 39          | 33          | 96.03       | 96.62       | 96.32      \n",
      "PART        | 154         | 164         | 15          | 5           | 91.12       | 96.86       | 93.9       \n",
      "PRON        | 1282        | 1190        | 30          | 122         | 97.71       | 91.31       | 94.4       \n",
      "PROPN       | 3640        | 3343        | 342         | 639         | 91.41       | 85.07       | 88.13      \n",
      "PUNCT       | 3791        | 3798        | 12          | 5           | 99.68       | 99.87       | 99.77      \n",
      "SCONJ       | 143         | 148         | 19          | 14          | 88.27       | 91.08       | 89.65      \n",
      "SYM         | 0           | 4           | 4           | 0           | 0.0         | 0.0         | 0.0        \n",
      "VERB        | 1911        | 1957        | 147         | 101         | 92.86       | 94.98       | 93.91      \n",
      "X           | 63          | 42          | 20          | 41          | 75.9        | 60.58       | 67.38      \n"
     ]
    }
   ],
   "source": [
    "main()"
   ]
  },
  {
   "cell_type": "code",
   "execution_count": null,
   "id": "9d524ca5-e75f-4fcb-9065-aa45ba257b91",
   "metadata": {},
   "outputs": [],
   "source": []
  }
 ],
 "metadata": {
  "kernelspec": {
   "display_name": "Python 3 (ipykernel)",
   "language": "python",
   "name": "python3"
  },
  "language_info": {
   "codemirror_mode": {
    "name": "ipython",
    "version": 3
   },
   "file_extension": ".py",
   "mimetype": "text/x-python",
   "name": "python",
   "nbconvert_exporter": "python",
   "pygments_lexer": "ipython3",
   "version": "3.12.0"
  }
 },
 "nbformat": 4,
 "nbformat_minor": 5
}
